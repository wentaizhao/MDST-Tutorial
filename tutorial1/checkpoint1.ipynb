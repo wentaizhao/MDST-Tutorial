{
 "cells": [
  {
   "cell_type": "markdown",
   "metadata": {},
   "source": [
    "# Checkpoint 1"
   ]
  },
  {
   "cell_type": "markdown",
   "metadata": {},
   "source": [
    "Reminder: \n",
    "\n",
    "- You are being evaluated for completion and effort in this checkpoint. \n",
    "- Avoid manual labor / hard coding as much as possible, everything we've taught you so far are meant to simplify and automate your process."
   ]
  },
  {
   "cell_type": "markdown",
   "metadata": {},
   "source": [
    "We will be working with the same `states_edu.csv` that you should already be familiar with from the tutorial.\n",
    "\n",
    "We investigated Grade 8 reading score in the tutorial. For this checkpoint, you are asked to investigate another test. Here's an overview:\n",
    "\n",
    "* Choose a specific response variable to focus on\n",
    ">Grade 4 Math, Grade 4 Reading, Grade 8 Math\n",
    "* Pick or create features to use\n",
    ">Will all the features be useful in predicting test score? Are some more important than others? Should you standardize, bin, or scale the data?\n",
    "* Explore the data as it relates to that test\n",
    ">Create at least 2 visualizations (graphs), each with a caption describing the graph and what it tells us about the data\n",
    "* Create training and testing data\n",
    ">Do you want to train on all the data? Only data from the last 10 years? Only Michigan data?\n",
    "* Train a ML model to predict outcome \n",
    ">Define what you want to predict, and pick a model in sklearn to use (see sklearn <a href=\"https://scikit-learn.org/stable/modules/linear_model.html\">regressors</a>).\n",
    "\n",
    "\n",
    "Include comments throughout your code! Every cleanup and preprocessing task should be documented."
   ]
  },
  {
   "cell_type": "markdown",
   "metadata": {},
   "source": [
    "<h2> Data Cleanup </h2>\n",
    "\n",
    "Import `numpy`, `pandas`, and `matplotlib`.\n",
    "\n",
    "(Feel free to import other libraries!)"
   ]
  },
  {
   "cell_type": "code",
<<<<<<< HEAD
   "execution_count": 1,
   "metadata": {},
   "outputs": [],
   "source": []
=======
   "execution_count": 99,
   "metadata": {},
   "outputs": [],
   "source": [
    "import numpy as np\n",
    "import pandas as pd\n",
    "import matplotlib.pyplot as plt"
   ]
>>>>>>> 86dc54f (CP 0 and 1)
  },
  {
   "cell_type": "markdown",
   "metadata": {},
   "source": [
    "Load in the \"states_edu.csv\" dataset and take a look at the head of the data"
   ]
  },
  {
   "cell_type": "code",
<<<<<<< HEAD
   "execution_count": null,
   "metadata": {},
   "outputs": [],
   "source": []
=======
   "execution_count": 100,
   "metadata": {},
   "outputs": [
    {
     "data": {
      "text/html": [
       "<div>\n",
       "<style scoped>\n",
       "    .dataframe tbody tr th:only-of-type {\n",
       "        vertical-align: middle;\n",
       "    }\n",
       "\n",
       "    .dataframe tbody tr th {\n",
       "        vertical-align: top;\n",
       "    }\n",
       "\n",
       "    .dataframe thead th {\n",
       "        text-align: right;\n",
       "    }\n",
       "</style>\n",
       "<table border=\"1\" class=\"dataframe\">\n",
       "  <thead>\n",
       "    <tr style=\"text-align: right;\">\n",
       "      <th></th>\n",
       "      <th>PRIMARY_KEY</th>\n",
       "      <th>STATE</th>\n",
       "      <th>YEAR</th>\n",
       "      <th>ENROLL</th>\n",
       "      <th>TOTAL_REVENUE</th>\n",
       "      <th>FEDERAL_REVENUE</th>\n",
       "      <th>STATE_REVENUE</th>\n",
       "      <th>LOCAL_REVENUE</th>\n",
       "      <th>TOTAL_EXPENDITURE</th>\n",
       "      <th>INSTRUCTION_EXPENDITURE</th>\n",
       "      <th>...</th>\n",
       "      <th>GRADES_4_G</th>\n",
       "      <th>GRADES_8_G</th>\n",
       "      <th>GRADES_12_G</th>\n",
       "      <th>GRADES_1_8_G</th>\n",
       "      <th>GRADES_9_12_G</th>\n",
       "      <th>GRADES_ALL_G</th>\n",
       "      <th>AVG_MATH_4_SCORE</th>\n",
       "      <th>AVG_MATH_8_SCORE</th>\n",
       "      <th>AVG_READING_4_SCORE</th>\n",
       "      <th>AVG_READING_8_SCORE</th>\n",
       "    </tr>\n",
       "  </thead>\n",
       "  <tbody>\n",
       "    <tr>\n",
       "      <th>0</th>\n",
       "      <td>1992_ALABAMA</td>\n",
       "      <td>ALABAMA</td>\n",
       "      <td>1992</td>\n",
       "      <td>NaN</td>\n",
       "      <td>2678885.0</td>\n",
       "      <td>304177.0</td>\n",
       "      <td>1659028.0</td>\n",
       "      <td>715680.0</td>\n",
       "      <td>2653798.0</td>\n",
       "      <td>1481703.0</td>\n",
       "      <td>...</td>\n",
       "      <td>57948.0</td>\n",
       "      <td>58025.0</td>\n",
       "      <td>41167.0</td>\n",
       "      <td>NaN</td>\n",
       "      <td>NaN</td>\n",
       "      <td>731634.0</td>\n",
       "      <td>208.0</td>\n",
       "      <td>252.0</td>\n",
       "      <td>207.0</td>\n",
       "      <td>NaN</td>\n",
       "    </tr>\n",
       "    <tr>\n",
       "      <th>1</th>\n",
       "      <td>1992_ALASKA</td>\n",
       "      <td>ALASKA</td>\n",
       "      <td>1992</td>\n",
       "      <td>NaN</td>\n",
       "      <td>1049591.0</td>\n",
       "      <td>106780.0</td>\n",
       "      <td>720711.0</td>\n",
       "      <td>222100.0</td>\n",
       "      <td>972488.0</td>\n",
       "      <td>498362.0</td>\n",
       "      <td>...</td>\n",
       "      <td>9748.0</td>\n",
       "      <td>8789.0</td>\n",
       "      <td>6714.0</td>\n",
       "      <td>NaN</td>\n",
       "      <td>NaN</td>\n",
       "      <td>122487.0</td>\n",
       "      <td>NaN</td>\n",
       "      <td>NaN</td>\n",
       "      <td>NaN</td>\n",
       "      <td>NaN</td>\n",
       "    </tr>\n",
       "    <tr>\n",
       "      <th>2</th>\n",
       "      <td>1992_ARIZONA</td>\n",
       "      <td>ARIZONA</td>\n",
       "      <td>1992</td>\n",
       "      <td>NaN</td>\n",
       "      <td>3258079.0</td>\n",
       "      <td>297888.0</td>\n",
       "      <td>1369815.0</td>\n",
       "      <td>1590376.0</td>\n",
       "      <td>3401580.0</td>\n",
       "      <td>1435908.0</td>\n",
       "      <td>...</td>\n",
       "      <td>55433.0</td>\n",
       "      <td>49081.0</td>\n",
       "      <td>37410.0</td>\n",
       "      <td>NaN</td>\n",
       "      <td>NaN</td>\n",
       "      <td>673477.0</td>\n",
       "      <td>215.0</td>\n",
       "      <td>265.0</td>\n",
       "      <td>209.0</td>\n",
       "      <td>NaN</td>\n",
       "    </tr>\n",
       "    <tr>\n",
       "      <th>3</th>\n",
       "      <td>1992_ARKANSAS</td>\n",
       "      <td>ARKANSAS</td>\n",
       "      <td>1992</td>\n",
       "      <td>NaN</td>\n",
       "      <td>1711959.0</td>\n",
       "      <td>178571.0</td>\n",
       "      <td>958785.0</td>\n",
       "      <td>574603.0</td>\n",
       "      <td>1743022.0</td>\n",
       "      <td>964323.0</td>\n",
       "      <td>...</td>\n",
       "      <td>34632.0</td>\n",
       "      <td>36011.0</td>\n",
       "      <td>27651.0</td>\n",
       "      <td>NaN</td>\n",
       "      <td>NaN</td>\n",
       "      <td>441490.0</td>\n",
       "      <td>210.0</td>\n",
       "      <td>256.0</td>\n",
       "      <td>211.0</td>\n",
       "      <td>NaN</td>\n",
       "    </tr>\n",
       "    <tr>\n",
       "      <th>4</th>\n",
       "      <td>1992_CALIFORNIA</td>\n",
       "      <td>CALIFORNIA</td>\n",
       "      <td>1992</td>\n",
       "      <td>NaN</td>\n",
       "      <td>26260025.0</td>\n",
       "      <td>2072470.0</td>\n",
       "      <td>16546514.0</td>\n",
       "      <td>7641041.0</td>\n",
       "      <td>27138832.0</td>\n",
       "      <td>14358922.0</td>\n",
       "      <td>...</td>\n",
       "      <td>418418.0</td>\n",
       "      <td>363296.0</td>\n",
       "      <td>270675.0</td>\n",
       "      <td>NaN</td>\n",
       "      <td>NaN</td>\n",
       "      <td>5254844.0</td>\n",
       "      <td>208.0</td>\n",
       "      <td>261.0</td>\n",
       "      <td>202.0</td>\n",
       "      <td>NaN</td>\n",
       "    </tr>\n",
       "  </tbody>\n",
       "</table>\n",
       "<p>5 rows × 25 columns</p>\n",
       "</div>"
      ],
      "text/plain": [
       "       PRIMARY_KEY       STATE  YEAR  ENROLL  TOTAL_REVENUE  FEDERAL_REVENUE  \\\n",
       "0     1992_ALABAMA     ALABAMA  1992     NaN      2678885.0         304177.0   \n",
       "1      1992_ALASKA      ALASKA  1992     NaN      1049591.0         106780.0   \n",
       "2     1992_ARIZONA     ARIZONA  1992     NaN      3258079.0         297888.0   \n",
       "3    1992_ARKANSAS    ARKANSAS  1992     NaN      1711959.0         178571.0   \n",
       "4  1992_CALIFORNIA  CALIFORNIA  1992     NaN     26260025.0        2072470.0   \n",
       "\n",
       "   STATE_REVENUE  LOCAL_REVENUE  TOTAL_EXPENDITURE  INSTRUCTION_EXPENDITURE  \\\n",
       "0      1659028.0       715680.0          2653798.0                1481703.0   \n",
       "1       720711.0       222100.0           972488.0                 498362.0   \n",
       "2      1369815.0      1590376.0          3401580.0                1435908.0   \n",
       "3       958785.0       574603.0          1743022.0                 964323.0   \n",
       "4     16546514.0      7641041.0         27138832.0               14358922.0   \n",
       "\n",
       "   ...  GRADES_4_G  GRADES_8_G  GRADES_12_G  GRADES_1_8_G  GRADES_9_12_G  \\\n",
       "0  ...     57948.0     58025.0      41167.0           NaN            NaN   \n",
       "1  ...      9748.0      8789.0       6714.0           NaN            NaN   \n",
       "2  ...     55433.0     49081.0      37410.0           NaN            NaN   \n",
       "3  ...     34632.0     36011.0      27651.0           NaN            NaN   \n",
       "4  ...    418418.0    363296.0     270675.0           NaN            NaN   \n",
       "\n",
       "   GRADES_ALL_G  AVG_MATH_4_SCORE  AVG_MATH_8_SCORE  AVG_READING_4_SCORE  \\\n",
       "0      731634.0             208.0             252.0                207.0   \n",
       "1      122487.0               NaN               NaN                  NaN   \n",
       "2      673477.0             215.0             265.0                209.0   \n",
       "3      441490.0             210.0             256.0                211.0   \n",
       "4     5254844.0             208.0             261.0                202.0   \n",
       "\n",
       "   AVG_READING_8_SCORE  \n",
       "0                  NaN  \n",
       "1                  NaN  \n",
       "2                  NaN  \n",
       "3                  NaN  \n",
       "4                  NaN  \n",
       "\n",
       "[5 rows x 25 columns]"
      ]
     },
     "execution_count": 100,
     "metadata": {},
     "output_type": "execute_result"
    }
   ],
   "source": [
    "df = pd.read_csv(\"../data/states_edu.csv\")\n",
    "df.head()"
   ]
>>>>>>> 86dc54f (CP 0 and 1)
  },
  {
   "cell_type": "markdown",
   "metadata": {},
   "source": [
    "You should always familiarize yourself with what each column in the dataframe represents. Read about the states_edu dataset here: https://www.kaggle.com/noriuk/us-education-datasets-unification-project"
   ]
  },
  {
   "cell_type": "markdown",
   "metadata": {},
   "source": [
    "Use this space to rename columns, deal with missing data, etc. _(optional)_"
   ]
  },
  {
   "cell_type": "code",
<<<<<<< HEAD
   "execution_count": null,
   "metadata": {},
   "outputs": [],
   "source": []
=======
   "execution_count": 101,
   "metadata": {},
   "outputs": [
    {
     "data": {
      "text/html": [
       "<div>\n",
       "<style scoped>\n",
       "    .dataframe tbody tr th:only-of-type {\n",
       "        vertical-align: middle;\n",
       "    }\n",
       "\n",
       "    .dataframe tbody tr th {\n",
       "        vertical-align: top;\n",
       "    }\n",
       "\n",
       "    .dataframe thead th {\n",
       "        text-align: right;\n",
       "    }\n",
       "</style>\n",
       "<table border=\"1\" class=\"dataframe\">\n",
       "  <thead>\n",
       "    <tr style=\"text-align: right;\">\n",
       "      <th></th>\n",
       "      <th>PRIMARY_KEY</th>\n",
       "      <th>STATE</th>\n",
       "      <th>YEAR</th>\n",
       "      <th>ENROLL</th>\n",
       "      <th>TOTAL_REVENUE</th>\n",
       "      <th>FEDERAL_REVENUE</th>\n",
       "      <th>STATE_REVENUE</th>\n",
       "      <th>LOCAL_REVENUE</th>\n",
       "      <th>TOTAL_EXPENDITURE</th>\n",
       "      <th>INSTRUCTION_EXPENDITURE</th>\n",
       "      <th>...</th>\n",
       "      <th>GRADES_4_G</th>\n",
       "      <th>GRADES_8_G</th>\n",
       "      <th>GRADES_12_G</th>\n",
       "      <th>GRADES_1_8_G</th>\n",
       "      <th>GRADES_9_12_G</th>\n",
       "      <th>GRADES_ALL_G</th>\n",
       "      <th>AVG_MATH_4_SCORE</th>\n",
       "      <th>AVG_MATH_8_SCORE</th>\n",
       "      <th>AVG_READING_4_SCORE</th>\n",
       "      <th>AVG_READING_8_SCORE</th>\n",
       "    </tr>\n",
       "  </thead>\n",
       "  <tbody>\n",
       "    <tr>\n",
       "      <th>561</th>\n",
       "      <td>2003_ALABAMA</td>\n",
       "      <td>ALABAMA</td>\n",
       "      <td>2003</td>\n",
       "      <td>727900.0</td>\n",
       "      <td>5196054.0</td>\n",
       "      <td>567704.0</td>\n",
       "      <td>2966981.0</td>\n",
       "      <td>1661369.0</td>\n",
       "      <td>5298932.0</td>\n",
       "      <td>2817111.0</td>\n",
       "      <td>...</td>\n",
       "      <td>57323.0</td>\n",
       "      <td>59663.0</td>\n",
       "      <td>42005.0</td>\n",
       "      <td>466920.0</td>\n",
       "      <td>205907.0</td>\n",
       "      <td>731220.0</td>\n",
       "      <td>223.0</td>\n",
       "      <td>262.0</td>\n",
       "      <td>207.0</td>\n",
       "      <td>253.0</td>\n",
       "    </tr>\n",
       "    <tr>\n",
       "      <th>562</th>\n",
       "      <td>2003_ALASKA</td>\n",
       "      <td>ALASKA</td>\n",
       "      <td>2003</td>\n",
       "      <td>133303.0</td>\n",
       "      <td>1425948.0</td>\n",
       "      <td>259423.0</td>\n",
       "      <td>813371.0</td>\n",
       "      <td>353154.0</td>\n",
       "      <td>1610289.0</td>\n",
       "      <td>763525.0</td>\n",
       "      <td>...</td>\n",
       "      <td>10115.0</td>\n",
       "      <td>11140.0</td>\n",
       "      <td>8651.0</td>\n",
       "      <td>82337.0</td>\n",
       "      <td>40238.0</td>\n",
       "      <td>133933.0</td>\n",
       "      <td>233.0</td>\n",
       "      <td>279.0</td>\n",
       "      <td>212.0</td>\n",
       "      <td>256.0</td>\n",
       "    </tr>\n",
       "    <tr>\n",
       "      <th>563</th>\n",
       "      <td>2003_ARIZONA</td>\n",
       "      <td>ARIZONA</td>\n",
       "      <td>2003</td>\n",
       "      <td>875111.0</td>\n",
       "      <td>6529894.0</td>\n",
       "      <td>740579.0</td>\n",
       "      <td>2912629.0</td>\n",
       "      <td>2876686.0</td>\n",
       "      <td>6210287.0</td>\n",
       "      <td>2810907.0</td>\n",
       "      <td>...</td>\n",
       "      <td>76207.0</td>\n",
       "      <td>76376.0</td>\n",
       "      <td>68815.0</td>\n",
       "      <td>613442.0</td>\n",
       "      <td>307272.0</td>\n",
       "      <td>1012068.0</td>\n",
       "      <td>229.0</td>\n",
       "      <td>271.0</td>\n",
       "      <td>209.0</td>\n",
       "      <td>255.0</td>\n",
       "    </tr>\n",
       "    <tr>\n",
       "      <th>564</th>\n",
       "      <td>2003_ARKANSAS</td>\n",
       "      <td>ARKANSAS</td>\n",
       "      <td>2003</td>\n",
       "      <td>450158.0</td>\n",
       "      <td>3241275.0</td>\n",
       "      <td>379947.0</td>\n",
       "      <td>2394336.0</td>\n",
       "      <td>466992.0</td>\n",
       "      <td>3242799.0</td>\n",
       "      <td>1768713.0</td>\n",
       "      <td>...</td>\n",
       "      <td>34070.0</td>\n",
       "      <td>37004.0</td>\n",
       "      <td>28840.0</td>\n",
       "      <td>281834.0</td>\n",
       "      <td>132712.0</td>\n",
       "      <td>454523.0</td>\n",
       "      <td>229.0</td>\n",
       "      <td>266.0</td>\n",
       "      <td>214.0</td>\n",
       "      <td>258.0</td>\n",
       "    </tr>\n",
       "    <tr>\n",
       "      <th>565</th>\n",
       "      <td>2003_CALIFORNIA</td>\n",
       "      <td>CALIFORNIA</td>\n",
       "      <td>2003</td>\n",
       "      <td>6226552.0</td>\n",
       "      <td>59815855.0</td>\n",
       "      <td>5795655.0</td>\n",
       "      <td>33617766.0</td>\n",
       "      <td>20402434.0</td>\n",
       "      <td>59749885.0</td>\n",
       "      <td>29561563.0</td>\n",
       "      <td>...</td>\n",
       "      <td>493415.0</td>\n",
       "      <td>500143.0</td>\n",
       "      <td>395194.0</td>\n",
       "      <td>3929869.0</td>\n",
       "      <td>1854518.0</td>\n",
       "      <td>6413867.0</td>\n",
       "      <td>227.0</td>\n",
       "      <td>267.0</td>\n",
       "      <td>206.0</td>\n",
       "      <td>251.0</td>\n",
       "    </tr>\n",
       "    <tr>\n",
       "      <th>...</th>\n",
       "      <td>...</td>\n",
       "      <td>...</td>\n",
       "      <td>...</td>\n",
       "      <td>...</td>\n",
       "      <td>...</td>\n",
       "      <td>...</td>\n",
       "      <td>...</td>\n",
       "      <td>...</td>\n",
       "      <td>...</td>\n",
       "      <td>...</td>\n",
       "      <td>...</td>\n",
       "      <td>...</td>\n",
       "      <td>...</td>\n",
       "      <td>...</td>\n",
       "      <td>...</td>\n",
       "      <td>...</td>\n",
       "      <td>...</td>\n",
       "      <td>...</td>\n",
       "      <td>...</td>\n",
       "      <td>...</td>\n",
       "      <td>...</td>\n",
       "    </tr>\n",
       "    <tr>\n",
       "      <th>1219</th>\n",
       "      <td>2015_VIRGINIA</td>\n",
       "      <td>VIRGINIA</td>\n",
       "      <td>2015</td>\n",
       "      <td>1279867.0</td>\n",
       "      <td>15857524.0</td>\n",
       "      <td>1012205.0</td>\n",
       "      <td>6240349.0</td>\n",
       "      <td>8604970.0</td>\n",
       "      <td>16113212.0</td>\n",
       "      <td>8755896.0</td>\n",
       "      <td>...</td>\n",
       "      <td>96851.0</td>\n",
       "      <td>95221.0</td>\n",
       "      <td>90391.0</td>\n",
       "      <td>772414.0</td>\n",
       "      <td>386781.0</td>\n",
       "      <td>1283590.0</td>\n",
       "      <td>247.0</td>\n",
       "      <td>288.0</td>\n",
       "      <td>229.0</td>\n",
       "      <td>267.0</td>\n",
       "    </tr>\n",
       "    <tr>\n",
       "      <th>1220</th>\n",
       "      <td>2015_WASHINGTON</td>\n",
       "      <td>WASHINGTON</td>\n",
       "      <td>2015</td>\n",
       "      <td>1072359.0</td>\n",
       "      <td>13709442.0</td>\n",
       "      <td>1036422.0</td>\n",
       "      <td>8293812.0</td>\n",
       "      <td>4379208.0</td>\n",
       "      <td>13630138.0</td>\n",
       "      <td>6508964.0</td>\n",
       "      <td>...</td>\n",
       "      <td>82404.0</td>\n",
       "      <td>79483.0</td>\n",
       "      <td>89258.0</td>\n",
       "      <td>656797.0</td>\n",
       "      <td>336808.0</td>\n",
       "      <td>1087030.0</td>\n",
       "      <td>245.0</td>\n",
       "      <td>287.0</td>\n",
       "      <td>226.0</td>\n",
       "      <td>267.0</td>\n",
       "    </tr>\n",
       "    <tr>\n",
       "      <th>1221</th>\n",
       "      <td>2015_WEST_VIRGINIA</td>\n",
       "      <td>WEST_VIRGINIA</td>\n",
       "      <td>2015</td>\n",
       "      <td>279565.0</td>\n",
       "      <td>3478401.0</td>\n",
       "      <td>362959.0</td>\n",
       "      <td>1979466.0</td>\n",
       "      <td>1135976.0</td>\n",
       "      <td>3466981.0</td>\n",
       "      <td>1819903.0</td>\n",
       "      <td>...</td>\n",
       "      <td>19814.0</td>\n",
       "      <td>20426.0</td>\n",
       "      <td>18432.0</td>\n",
       "      <td>162070.0</td>\n",
       "      <td>80142.0</td>\n",
       "      <td>277452.0</td>\n",
       "      <td>235.0</td>\n",
       "      <td>271.0</td>\n",
       "      <td>216.0</td>\n",
       "      <td>260.0</td>\n",
       "    </tr>\n",
       "    <tr>\n",
       "      <th>1222</th>\n",
       "      <td>2015_WISCONSIN</td>\n",
       "      <td>WISCONSIN</td>\n",
       "      <td>2015</td>\n",
       "      <td>861813.0</td>\n",
       "      <td>11637376.0</td>\n",
       "      <td>814385.0</td>\n",
       "      <td>5869265.0</td>\n",
       "      <td>4953726.0</td>\n",
       "      <td>11553677.0</td>\n",
       "      <td>5723474.0</td>\n",
       "      <td>...</td>\n",
       "      <td>60999.0</td>\n",
       "      <td>61084.0</td>\n",
       "      <td>66253.0</td>\n",
       "      <td>489919.0</td>\n",
       "      <td>263896.0</td>\n",
       "      <td>867800.0</td>\n",
       "      <td>243.0</td>\n",
       "      <td>289.0</td>\n",
       "      <td>223.0</td>\n",
       "      <td>270.0</td>\n",
       "    </tr>\n",
       "    <tr>\n",
       "      <th>1223</th>\n",
       "      <td>2015_WYOMING</td>\n",
       "      <td>WYOMING</td>\n",
       "      <td>2015</td>\n",
       "      <td>93867.0</td>\n",
       "      <td>1962874.0</td>\n",
       "      <td>120290.0</td>\n",
       "      <td>1116917.0</td>\n",
       "      <td>725667.0</td>\n",
       "      <td>1942406.0</td>\n",
       "      <td>895910.0</td>\n",
       "      <td>...</td>\n",
       "      <td>7551.0</td>\n",
       "      <td>6902.0</td>\n",
       "      <td>6299.0</td>\n",
       "      <td>59453.0</td>\n",
       "      <td>26914.0</td>\n",
       "      <td>94717.0</td>\n",
       "      <td>247.0</td>\n",
       "      <td>287.0</td>\n",
       "      <td>228.0</td>\n",
       "      <td>269.0</td>\n",
       "    </tr>\n",
       "  </tbody>\n",
       "</table>\n",
       "<p>355 rows × 25 columns</p>\n",
       "</div>"
      ],
      "text/plain": [
       "             PRIMARY_KEY          STATE  YEAR     ENROLL  TOTAL_REVENUE  \\\n",
       "561         2003_ALABAMA        ALABAMA  2003   727900.0      5196054.0   \n",
       "562          2003_ALASKA         ALASKA  2003   133303.0      1425948.0   \n",
       "563         2003_ARIZONA        ARIZONA  2003   875111.0      6529894.0   \n",
       "564        2003_ARKANSAS       ARKANSAS  2003   450158.0      3241275.0   \n",
       "565      2003_CALIFORNIA     CALIFORNIA  2003  6226552.0     59815855.0   \n",
       "...                  ...            ...   ...        ...            ...   \n",
       "1219       2015_VIRGINIA       VIRGINIA  2015  1279867.0     15857524.0   \n",
       "1220     2015_WASHINGTON     WASHINGTON  2015  1072359.0     13709442.0   \n",
       "1221  2015_WEST_VIRGINIA  WEST_VIRGINIA  2015   279565.0      3478401.0   \n",
       "1222      2015_WISCONSIN      WISCONSIN  2015   861813.0     11637376.0   \n",
       "1223        2015_WYOMING        WYOMING  2015    93867.0      1962874.0   \n",
       "\n",
       "      FEDERAL_REVENUE  STATE_REVENUE  LOCAL_REVENUE  TOTAL_EXPENDITURE  \\\n",
       "561          567704.0      2966981.0      1661369.0          5298932.0   \n",
       "562          259423.0       813371.0       353154.0          1610289.0   \n",
       "563          740579.0      2912629.0      2876686.0          6210287.0   \n",
       "564          379947.0      2394336.0       466992.0          3242799.0   \n",
       "565         5795655.0     33617766.0     20402434.0         59749885.0   \n",
       "...               ...            ...            ...                ...   \n",
       "1219        1012205.0      6240349.0      8604970.0         16113212.0   \n",
       "1220        1036422.0      8293812.0      4379208.0         13630138.0   \n",
       "1221         362959.0      1979466.0      1135976.0          3466981.0   \n",
       "1222         814385.0      5869265.0      4953726.0         11553677.0   \n",
       "1223         120290.0      1116917.0       725667.0          1942406.0   \n",
       "\n",
       "      INSTRUCTION_EXPENDITURE  ...  GRADES_4_G  GRADES_8_G  GRADES_12_G  \\\n",
       "561                 2817111.0  ...     57323.0     59663.0      42005.0   \n",
       "562                  763525.0  ...     10115.0     11140.0       8651.0   \n",
       "563                 2810907.0  ...     76207.0     76376.0      68815.0   \n",
       "564                 1768713.0  ...     34070.0     37004.0      28840.0   \n",
       "565                29561563.0  ...    493415.0    500143.0     395194.0   \n",
       "...                       ...  ...         ...         ...          ...   \n",
       "1219                8755896.0  ...     96851.0     95221.0      90391.0   \n",
       "1220                6508964.0  ...     82404.0     79483.0      89258.0   \n",
       "1221                1819903.0  ...     19814.0     20426.0      18432.0   \n",
       "1222                5723474.0  ...     60999.0     61084.0      66253.0   \n",
       "1223                 895910.0  ...      7551.0      6902.0       6299.0   \n",
       "\n",
       "      GRADES_1_8_G  GRADES_9_12_G  GRADES_ALL_G  AVG_MATH_4_SCORE  \\\n",
       "561       466920.0       205907.0      731220.0             223.0   \n",
       "562        82337.0        40238.0      133933.0             233.0   \n",
       "563       613442.0       307272.0     1012068.0             229.0   \n",
       "564       281834.0       132712.0      454523.0             229.0   \n",
       "565      3929869.0      1854518.0     6413867.0             227.0   \n",
       "...            ...            ...           ...               ...   \n",
       "1219      772414.0       386781.0     1283590.0             247.0   \n",
       "1220      656797.0       336808.0     1087030.0             245.0   \n",
       "1221      162070.0        80142.0      277452.0             235.0   \n",
       "1222      489919.0       263896.0      867800.0             243.0   \n",
       "1223       59453.0        26914.0       94717.0             247.0   \n",
       "\n",
       "      AVG_MATH_8_SCORE  AVG_READING_4_SCORE  AVG_READING_8_SCORE  \n",
       "561              262.0                207.0                253.0  \n",
       "562              279.0                212.0                256.0  \n",
       "563              271.0                209.0                255.0  \n",
       "564              266.0                214.0                258.0  \n",
       "565              267.0                206.0                251.0  \n",
       "...                ...                  ...                  ...  \n",
       "1219             288.0                229.0                267.0  \n",
       "1220             287.0                226.0                267.0  \n",
       "1221             271.0                216.0                260.0  \n",
       "1222             289.0                223.0                270.0  \n",
       "1223             287.0                228.0                269.0  \n",
       "\n",
       "[355 rows x 25 columns]"
      ]
     },
     "execution_count": 101,
     "metadata": {},
     "output_type": "execute_result"
    }
   ],
   "source": [
    "df.dropna()"
   ]
>>>>>>> 86dc54f (CP 0 and 1)
  },
  {
   "cell_type": "markdown",
   "metadata": {},
   "source": [
    "<h2>Exploratory Data Analysis (EDA) </h2>"
   ]
  },
  {
   "cell_type": "markdown",
   "metadata": {},
   "source": [
<<<<<<< HEAD
    "Chosen one of Grade 4 Reading, Grade 4 Math, or Grade 8 Math to focus on: *ENTER YOUR CHOICE HERE*"
=======
    "Chosen one of Grade 4 Reading, Grade 4 Math, or Grade 8 Math to focus on: *Grade 4 Reading*"
>>>>>>> 86dc54f (CP 0 and 1)
   ]
  },
  {
   "cell_type": "markdown",
   "metadata": {},
   "source": [
    "How many years of data are logged in our dataset? "
   ]
  },
  {
   "cell_type": "code",
<<<<<<< HEAD
   "execution_count": null,
   "metadata": {},
   "outputs": [],
   "source": []
=======
   "execution_count": 102,
   "metadata": {},
   "outputs": [
    {
     "name": "stdout",
     "output_type": "stream",
     "text": [
      "33\n"
     ]
    }
   ],
   "source": [
    "print(df[\"YEAR\"].nunique())\n",
    "\n",
    "# 33"
   ]
>>>>>>> 86dc54f (CP 0 and 1)
  },
  {
   "cell_type": "markdown",
   "metadata": {},
   "source": [
    "Let's compare Michigan to Ohio. Which state has the higher average across all years in the test you chose?"
   ]
  },
  {
   "cell_type": "code",
<<<<<<< HEAD
   "execution_count": null,
   "metadata": {},
   "outputs": [],
   "source": []
=======
   "execution_count": 103,
   "metadata": {},
   "outputs": [
    {
     "name": "stdout",
     "output_type": "stream",
     "text": [
      "217.83333333333334\n",
      "223.1818181818182\n"
     ]
    }
   ],
   "source": [
    "print(df[df[\"STATE\"] == \"MICHIGAN\"][\"AVG_READING_4_SCORE\"].mean())\n",
    "print(df[df[\"STATE\"] == \"OHIO\"][\"AVG_READING_4_SCORE\"].mean())\n",
    "\n",
    "# OHIO"
   ]
>>>>>>> 86dc54f (CP 0 and 1)
  },
  {
   "cell_type": "markdown",
   "metadata": {},
   "source": [
    "Find the average for your chosen test across all states in 2019"
   ]
  },
  {
   "cell_type": "code",
<<<<<<< HEAD
   "execution_count": null,
   "metadata": {},
   "outputs": [],
   "source": []
=======
   "execution_count": 104,
   "metadata": {},
   "outputs": [
    {
     "name": "stdout",
     "output_type": "stream",
     "text": [
      "219.79245283018867\n"
     ]
    }
   ],
   "source": [
    "print(df[df[\"YEAR\"] == 2019][\"AVG_READING_4_SCORE\"].mean())\n",
    "\n",
    "# 219.79245283018867"
   ]
>>>>>>> 86dc54f (CP 0 and 1)
  },
  {
   "cell_type": "markdown",
   "metadata": {},
   "source": [
    "For each state, find a maximum value for your chosen test score"
   ]
  },
  {
   "cell_type": "code",
<<<<<<< HEAD
   "execution_count": null,
   "metadata": {},
   "outputs": [],
   "source": []
=======
   "execution_count": 105,
   "metadata": {},
   "outputs": [
    {
     "data": {
      "text/plain": [
       "STATE\n",
       "ALABAMA                 220.0\n",
       "ALASKA                  214.0\n",
       "ARIZONA                 216.0\n",
       "ARKANSAS                219.0\n",
       "CALIFORNIA              216.0\n",
       "COLORADO                227.0\n",
       "CONNECTICUT             230.0\n",
       "DELAWARE                226.0\n",
       "DISTRICT_OF_COLUMBIA    214.0\n",
       "DODEA                   235.0\n",
       "FLORIDA                 228.0\n",
       "GEORGIA                 222.0\n",
       "HAWAII                  218.0\n",
       "IDAHO                   223.0\n",
       "ILLINOIS                222.0\n",
       "INDIANA                 227.0\n",
       "IOWA                    225.0\n",
       "KANSAS                  225.0\n",
       "KENTUCKY                228.0\n",
       "LOUISIANA               216.0\n",
       "MAINE                   228.0\n",
       "MARYLAND                232.0\n",
       "MASSACHUSETTS           237.0\n",
       "MICHIGAN                220.0\n",
       "MINNESOTA               227.0\n",
       "MISSISSIPPI             219.0\n",
       "MISSOURI                224.0\n",
       "MONTANA                 227.0\n",
       "NATIONAL                223.0\n",
       "NEBRASKA                227.0\n",
       "NEVADA                  218.0\n",
       "NEW_HAMPSHIRE           232.0\n",
       "NEW_JERSEY              233.0\n",
       "NEW_MEXICO              212.0\n",
       "NEW_YORK                224.0\n",
       "NORTH_CAROLINA          226.0\n",
       "NORTH_DAKOTA            226.0\n",
       "OHIO                    226.0\n",
       "OKLAHOMA                222.0\n",
       "OREGON                  220.0\n",
       "PENNSYLVANIA            227.0\n",
       "RHODE_ISLAND            225.0\n",
       "SOUTH_CAROLINA          218.0\n",
       "SOUTH_DAKOTA            223.0\n",
       "TENNESSEE               220.0\n",
       "TEXAS                   220.0\n",
       "UTAH                    226.0\n",
       "VERMONT                 230.0\n",
       "VIRGINIA                229.0\n",
       "WASHINGTON              226.0\n",
       "WEST_VIRGINIA           219.0\n",
       "WISCONSIN               224.0\n",
       "WYOMING                 228.0\n",
       "Name: AVG_READING_4_SCORE, dtype: float64"
      ]
     },
     "execution_count": 105,
     "metadata": {},
     "output_type": "execute_result"
    }
   ],
   "source": [
    "df.groupby(\"STATE\")[\"AVG_READING_4_SCORE\"].max()"
   ]
>>>>>>> 86dc54f (CP 0 and 1)
  },
  {
   "cell_type": "markdown",
   "metadata": {},
   "source": [
    "*Refer to the `Grouping and Aggregating` section in Tutorial 0 if you are stuck."
   ]
  },
  {
   "cell_type": "markdown",
   "metadata": {},
   "source": [
    "<h2> Feature Engineering </h2>\n",
    "\n",
    "After exploring the data, you can choose to modify features that you would use to predict the performance of the students on your chosen response variable. \n",
    "\n",
    "You can also create your own features. For example, perhaps you figured that maybe a state's expenditure per student may affect their overall academic performance so you create a expenditure_per_student feature.\n",
    "\n",
    "Use this space to modify or create features."
   ]
  },
  {
   "cell_type": "code",
<<<<<<< HEAD
   "execution_count": null,
   "metadata": {},
   "outputs": [],
   "source": []
=======
   "execution_count": 106,
   "metadata": {},
   "outputs": [],
   "source": [
    "df[\"EXPENDITURE_PER_STUDENT\"] = df[\"TOTAL_EXPENDITURE\"] / df[\"ENROLL\"]"
   ]
>>>>>>> 86dc54f (CP 0 and 1)
  },
  {
   "cell_type": "markdown",
   "metadata": {},
   "source": [
    "Feature engineering justification: **<BRIEFLY DESCRIBE WHY YOU MADE THE CHANGES THAT YOU DID\\>**"
   ]
  },
  {
   "cell_type": "markdown",
   "metadata": {},
   "source": [
    "<h2>Visualization</h2>\n",
    "\n",
    "Investigate the relationship between your chosen response variable and at least two predictors using visualizations. Write down your observations.\n",
    "\n",
    "**Visualization 1**"
   ]
  },
  {
   "cell_type": "code",
<<<<<<< HEAD
   "execution_count": null,
   "metadata": {},
   "outputs": [],
   "source": []
=======
   "execution_count": 107,
   "metadata": {},
   "outputs": [
    {
     "data": {
      "text/plain": [
       "Text(0, 0.5, '4th Grade Reading Score')"
      ]
     },
     "execution_count": 107,
     "metadata": {},
     "output_type": "execute_result"
    },
    {
     "data": {
      "image/png": "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",
      "text/plain": [
       "<Figure size 640x480 with 1 Axes>"
      ]
     },
     "metadata": {},
     "output_type": "display_data"
    }
   ],
   "source": [
    "df.plot.scatter(x='STATE_REVENUE', y='AVG_READING_4_SCORE', alpha=0.6)\n",
    "plt.xlabel('State Revenue')\n",
    "plt.ylabel('4th Grade Reading Score')"
   ]
>>>>>>> 86dc54f (CP 0 and 1)
  },
  {
   "cell_type": "markdown",
   "metadata": {},
   "source": [
<<<<<<< HEAD
    "**<CAPTION FOR VIZ 1>**"
=======
    "**4th Grade Reading Score vs State Revenue**"
>>>>>>> 86dc54f (CP 0 and 1)
   ]
  },
  {
   "cell_type": "markdown",
   "metadata": {},
   "source": [
    "**Visualization 2**"
   ]
  },
  {
   "cell_type": "code",
<<<<<<< HEAD
   "execution_count": null,
   "metadata": {},
   "outputs": [],
   "source": []
=======
   "execution_count": 108,
   "metadata": {},
   "outputs": [
    {
     "data": {
      "text/plain": [
       "Text(0, 0.5, '4th Grade Reading Score')"
      ]
     },
     "execution_count": 108,
     "metadata": {},
     "output_type": "execute_result"
    },
    {
     "data": {
      "image/png": "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",
      "text/plain": [
       "<Figure size 640x480 with 1 Axes>"
      ]
     },
     "metadata": {},
     "output_type": "display_data"
    }
   ],
   "source": [
    "df.plot.scatter(x='TOTAL_EXPENDITURE', y='AVG_READING_4_SCORE', alpha=0.6)\n",
    "plt.xlabel('Total Expenditure')\n",
    "plt.ylabel('4th Grade Reading Score')"
   ]
>>>>>>> 86dc54f (CP 0 and 1)
  },
  {
   "cell_type": "markdown",
   "metadata": {},
   "source": [
<<<<<<< HEAD
    "**<CAPTION FOR VIZ 2>**"
=======
    "**4th Grade Reading Score vs Total Expenditure**"
>>>>>>> 86dc54f (CP 0 and 1)
   ]
  },
  {
   "cell_type": "markdown",
   "metadata": {},
   "source": [
    "<h2> Data Creation </h2>\n",
    "\n",
    "_Use this space to create train/test data_"
   ]
  },
  {
   "cell_type": "code",
<<<<<<< HEAD
   "execution_count": null,
=======
   "execution_count": 109,
>>>>>>> 86dc54f (CP 0 and 1)
   "metadata": {},
   "outputs": [],
   "source": [
    "from sklearn.model_selection import train_test_split"
   ]
  },
  {
   "cell_type": "code",
<<<<<<< HEAD
   "execution_count": null,
   "metadata": {},
   "outputs": [],
   "source": [
    "# X =\n",
    "# y = "
=======
   "execution_count": 110,
   "metadata": {},
   "outputs": [],
   "source": [
    "df.dropna()\n",
    "X = df[['TOTAL_EXPENDITURE','STATE_REVENUE']].dropna()\n",
    "y = df.loc[X.index, 'AVG_READING_8_SCORE'].dropna()\n",
    "X = X.loc[y.index]"
>>>>>>> 86dc54f (CP 0 and 1)
   ]
  },
  {
   "cell_type": "code",
<<<<<<< HEAD
   "execution_count": null,
   "metadata": {},
   "outputs": [],
   "source": [
    "# X_train, X_test, y_train, y_test = train_test_split(\n",
    "#      X, y, test_size=, random_state=42)"
=======
   "execution_count": 111,
   "metadata": {},
   "outputs": [],
   "source": [
    "X_train, X_test, y_train, y_test = train_test_split(\n",
    "     X, y, test_size=0.3, random_state=42)"
>>>>>>> 86dc54f (CP 0 and 1)
   ]
  },
  {
   "cell_type": "markdown",
   "metadata": {},
   "source": [
    "<h2> Prediction </h2>"
   ]
  },
  {
   "cell_type": "markdown",
   "metadata": {},
   "source": [
    "ML Models [Resource](https://medium.com/@vijaya.beeravalli/comparison-of-machine-learning-classification-models-for-credit-card-default-data-c3cf805c9a5a)"
   ]
  },
  {
   "cell_type": "code",
<<<<<<< HEAD
   "execution_count": null,
   "metadata": {},
   "outputs": [],
   "source": [
    "# import your sklearn class here"
=======
   "execution_count": 112,
   "metadata": {},
   "outputs": [],
   "source": [
    "# import your sklearn class here\n",
    "from sklearn.linear_model import LinearRegression"
>>>>>>> 86dc54f (CP 0 and 1)
   ]
  },
  {
   "cell_type": "code",
<<<<<<< HEAD
   "execution_count": null,
=======
   "execution_count": 113,
>>>>>>> 86dc54f (CP 0 and 1)
   "metadata": {},
   "outputs": [],
   "source": [
    "# create your model here\n",
<<<<<<< HEAD
    "# model = "
=======
    "model = LinearRegression()"
>>>>>>> 86dc54f (CP 0 and 1)
   ]
  },
  {
   "cell_type": "code",
<<<<<<< HEAD
   "execution_count": null,
   "metadata": {},
   "outputs": [],
=======
   "execution_count": 114,
   "metadata": {},
   "outputs": [
    {
     "data": {
      "text/html": [
       "<style>#sk-container-id-4 {\n",
       "  /* Definition of color scheme common for light and dark mode */\n",
       "  --sklearn-color-text: black;\n",
       "  --sklearn-color-line: gray;\n",
       "  /* Definition of color scheme for unfitted estimators */\n",
       "  --sklearn-color-unfitted-level-0: #fff5e6;\n",
       "  --sklearn-color-unfitted-level-1: #f6e4d2;\n",
       "  --sklearn-color-unfitted-level-2: #ffe0b3;\n",
       "  --sklearn-color-unfitted-level-3: chocolate;\n",
       "  /* Definition of color scheme for fitted estimators */\n",
       "  --sklearn-color-fitted-level-0: #f0f8ff;\n",
       "  --sklearn-color-fitted-level-1: #d4ebff;\n",
       "  --sklearn-color-fitted-level-2: #b3dbfd;\n",
       "  --sklearn-color-fitted-level-3: cornflowerblue;\n",
       "\n",
       "  /* Specific color for light theme */\n",
       "  --sklearn-color-text-on-default-background: var(--sg-text-color, var(--theme-code-foreground, var(--jp-content-font-color1, black)));\n",
       "  --sklearn-color-background: var(--sg-background-color, var(--theme-background, var(--jp-layout-color0, white)));\n",
       "  --sklearn-color-border-box: var(--sg-text-color, var(--theme-code-foreground, var(--jp-content-font-color1, black)));\n",
       "  --sklearn-color-icon: #696969;\n",
       "\n",
       "  @media (prefers-color-scheme: dark) {\n",
       "    /* Redefinition of color scheme for dark theme */\n",
       "    --sklearn-color-text-on-default-background: var(--sg-text-color, var(--theme-code-foreground, var(--jp-content-font-color1, white)));\n",
       "    --sklearn-color-background: var(--sg-background-color, var(--theme-background, var(--jp-layout-color0, #111)));\n",
       "    --sklearn-color-border-box: var(--sg-text-color, var(--theme-code-foreground, var(--jp-content-font-color1, white)));\n",
       "    --sklearn-color-icon: #878787;\n",
       "  }\n",
       "}\n",
       "\n",
       "#sk-container-id-4 {\n",
       "  color: var(--sklearn-color-text);\n",
       "}\n",
       "\n",
       "#sk-container-id-4 pre {\n",
       "  padding: 0;\n",
       "}\n",
       "\n",
       "#sk-container-id-4 input.sk-hidden--visually {\n",
       "  border: 0;\n",
       "  clip: rect(1px 1px 1px 1px);\n",
       "  clip: rect(1px, 1px, 1px, 1px);\n",
       "  height: 1px;\n",
       "  margin: -1px;\n",
       "  overflow: hidden;\n",
       "  padding: 0;\n",
       "  position: absolute;\n",
       "  width: 1px;\n",
       "}\n",
       "\n",
       "#sk-container-id-4 div.sk-dashed-wrapped {\n",
       "  border: 1px dashed var(--sklearn-color-line);\n",
       "  margin: 0 0.4em 0.5em 0.4em;\n",
       "  box-sizing: border-box;\n",
       "  padding-bottom: 0.4em;\n",
       "  background-color: var(--sklearn-color-background);\n",
       "}\n",
       "\n",
       "#sk-container-id-4 div.sk-container {\n",
       "  /* jupyter's `normalize.less` sets `[hidden] { display: none; }`\n",
       "     but bootstrap.min.css set `[hidden] { display: none !important; }`\n",
       "     so we also need the `!important` here to be able to override the\n",
       "     default hidden behavior on the sphinx rendered scikit-learn.org.\n",
       "     See: https://github.com/scikit-learn/scikit-learn/issues/21755 */\n",
       "  display: inline-block !important;\n",
       "  position: relative;\n",
       "}\n",
       "\n",
       "#sk-container-id-4 div.sk-text-repr-fallback {\n",
       "  display: none;\n",
       "}\n",
       "\n",
       "div.sk-parallel-item,\n",
       "div.sk-serial,\n",
       "div.sk-item {\n",
       "  /* draw centered vertical line to link estimators */\n",
       "  background-image: linear-gradient(var(--sklearn-color-text-on-default-background), var(--sklearn-color-text-on-default-background));\n",
       "  background-size: 2px 100%;\n",
       "  background-repeat: no-repeat;\n",
       "  background-position: center center;\n",
       "}\n",
       "\n",
       "/* Parallel-specific style estimator block */\n",
       "\n",
       "#sk-container-id-4 div.sk-parallel-item::after {\n",
       "  content: \"\";\n",
       "  width: 100%;\n",
       "  border-bottom: 2px solid var(--sklearn-color-text-on-default-background);\n",
       "  flex-grow: 1;\n",
       "}\n",
       "\n",
       "#sk-container-id-4 div.sk-parallel {\n",
       "  display: flex;\n",
       "  align-items: stretch;\n",
       "  justify-content: center;\n",
       "  background-color: var(--sklearn-color-background);\n",
       "  position: relative;\n",
       "}\n",
       "\n",
       "#sk-container-id-4 div.sk-parallel-item {\n",
       "  display: flex;\n",
       "  flex-direction: column;\n",
       "}\n",
       "\n",
       "#sk-container-id-4 div.sk-parallel-item:first-child::after {\n",
       "  align-self: flex-end;\n",
       "  width: 50%;\n",
       "}\n",
       "\n",
       "#sk-container-id-4 div.sk-parallel-item:last-child::after {\n",
       "  align-self: flex-start;\n",
       "  width: 50%;\n",
       "}\n",
       "\n",
       "#sk-container-id-4 div.sk-parallel-item:only-child::after {\n",
       "  width: 0;\n",
       "}\n",
       "\n",
       "/* Serial-specific style estimator block */\n",
       "\n",
       "#sk-container-id-4 div.sk-serial {\n",
       "  display: flex;\n",
       "  flex-direction: column;\n",
       "  align-items: center;\n",
       "  background-color: var(--sklearn-color-background);\n",
       "  padding-right: 1em;\n",
       "  padding-left: 1em;\n",
       "}\n",
       "\n",
       "\n",
       "/* Toggleable style: style used for estimator/Pipeline/ColumnTransformer box that is\n",
       "clickable and can be expanded/collapsed.\n",
       "- Pipeline and ColumnTransformer use this feature and define the default style\n",
       "- Estimators will overwrite some part of the style using the `sk-estimator` class\n",
       "*/\n",
       "\n",
       "/* Pipeline and ColumnTransformer style (default) */\n",
       "\n",
       "#sk-container-id-4 div.sk-toggleable {\n",
       "  /* Default theme specific background. It is overwritten whether we have a\n",
       "  specific estimator or a Pipeline/ColumnTransformer */\n",
       "  background-color: var(--sklearn-color-background);\n",
       "}\n",
       "\n",
       "/* Toggleable label */\n",
       "#sk-container-id-4 label.sk-toggleable__label {\n",
       "  cursor: pointer;\n",
       "  display: block;\n",
       "  width: 100%;\n",
       "  margin-bottom: 0;\n",
       "  padding: 0.5em;\n",
       "  box-sizing: border-box;\n",
       "  text-align: center;\n",
       "}\n",
       "\n",
       "#sk-container-id-4 label.sk-toggleable__label-arrow:before {\n",
       "  /* Arrow on the left of the label */\n",
       "  content: \"▸\";\n",
       "  float: left;\n",
       "  margin-right: 0.25em;\n",
       "  color: var(--sklearn-color-icon);\n",
       "}\n",
       "\n",
       "#sk-container-id-4 label.sk-toggleable__label-arrow:hover:before {\n",
       "  color: var(--sklearn-color-text);\n",
       "}\n",
       "\n",
       "/* Toggleable content - dropdown */\n",
       "\n",
       "#sk-container-id-4 div.sk-toggleable__content {\n",
       "  max-height: 0;\n",
       "  max-width: 0;\n",
       "  overflow: hidden;\n",
       "  text-align: left;\n",
       "  /* unfitted */\n",
       "  background-color: var(--sklearn-color-unfitted-level-0);\n",
       "}\n",
       "\n",
       "#sk-container-id-4 div.sk-toggleable__content.fitted {\n",
       "  /* fitted */\n",
       "  background-color: var(--sklearn-color-fitted-level-0);\n",
       "}\n",
       "\n",
       "#sk-container-id-4 div.sk-toggleable__content pre {\n",
       "  margin: 0.2em;\n",
       "  border-radius: 0.25em;\n",
       "  color: var(--sklearn-color-text);\n",
       "  /* unfitted */\n",
       "  background-color: var(--sklearn-color-unfitted-level-0);\n",
       "}\n",
       "\n",
       "#sk-container-id-4 div.sk-toggleable__content.fitted pre {\n",
       "  /* unfitted */\n",
       "  background-color: var(--sklearn-color-fitted-level-0);\n",
       "}\n",
       "\n",
       "#sk-container-id-4 input.sk-toggleable__control:checked~div.sk-toggleable__content {\n",
       "  /* Expand drop-down */\n",
       "  max-height: 200px;\n",
       "  max-width: 100%;\n",
       "  overflow: auto;\n",
       "}\n",
       "\n",
       "#sk-container-id-4 input.sk-toggleable__control:checked~label.sk-toggleable__label-arrow:before {\n",
       "  content: \"▾\";\n",
       "}\n",
       "\n",
       "/* Pipeline/ColumnTransformer-specific style */\n",
       "\n",
       "#sk-container-id-4 div.sk-label input.sk-toggleable__control:checked~label.sk-toggleable__label {\n",
       "  color: var(--sklearn-color-text);\n",
       "  background-color: var(--sklearn-color-unfitted-level-2);\n",
       "}\n",
       "\n",
       "#sk-container-id-4 div.sk-label.fitted input.sk-toggleable__control:checked~label.sk-toggleable__label {\n",
       "  background-color: var(--sklearn-color-fitted-level-2);\n",
       "}\n",
       "\n",
       "/* Estimator-specific style */\n",
       "\n",
       "/* Colorize estimator box */\n",
       "#sk-container-id-4 div.sk-estimator input.sk-toggleable__control:checked~label.sk-toggleable__label {\n",
       "  /* unfitted */\n",
       "  background-color: var(--sklearn-color-unfitted-level-2);\n",
       "}\n",
       "\n",
       "#sk-container-id-4 div.sk-estimator.fitted input.sk-toggleable__control:checked~label.sk-toggleable__label {\n",
       "  /* fitted */\n",
       "  background-color: var(--sklearn-color-fitted-level-2);\n",
       "}\n",
       "\n",
       "#sk-container-id-4 div.sk-label label.sk-toggleable__label,\n",
       "#sk-container-id-4 div.sk-label label {\n",
       "  /* The background is the default theme color */\n",
       "  color: var(--sklearn-color-text-on-default-background);\n",
       "}\n",
       "\n",
       "/* On hover, darken the color of the background */\n",
       "#sk-container-id-4 div.sk-label:hover label.sk-toggleable__label {\n",
       "  color: var(--sklearn-color-text);\n",
       "  background-color: var(--sklearn-color-unfitted-level-2);\n",
       "}\n",
       "\n",
       "/* Label box, darken color on hover, fitted */\n",
       "#sk-container-id-4 div.sk-label.fitted:hover label.sk-toggleable__label.fitted {\n",
       "  color: var(--sklearn-color-text);\n",
       "  background-color: var(--sklearn-color-fitted-level-2);\n",
       "}\n",
       "\n",
       "/* Estimator label */\n",
       "\n",
       "#sk-container-id-4 div.sk-label label {\n",
       "  font-family: monospace;\n",
       "  font-weight: bold;\n",
       "  display: inline-block;\n",
       "  line-height: 1.2em;\n",
       "}\n",
       "\n",
       "#sk-container-id-4 div.sk-label-container {\n",
       "  text-align: center;\n",
       "}\n",
       "\n",
       "/* Estimator-specific */\n",
       "#sk-container-id-4 div.sk-estimator {\n",
       "  font-family: monospace;\n",
       "  border: 1px dotted var(--sklearn-color-border-box);\n",
       "  border-radius: 0.25em;\n",
       "  box-sizing: border-box;\n",
       "  margin-bottom: 0.5em;\n",
       "  /* unfitted */\n",
       "  background-color: var(--sklearn-color-unfitted-level-0);\n",
       "}\n",
       "\n",
       "#sk-container-id-4 div.sk-estimator.fitted {\n",
       "  /* fitted */\n",
       "  background-color: var(--sklearn-color-fitted-level-0);\n",
       "}\n",
       "\n",
       "/* on hover */\n",
       "#sk-container-id-4 div.sk-estimator:hover {\n",
       "  /* unfitted */\n",
       "  background-color: var(--sklearn-color-unfitted-level-2);\n",
       "}\n",
       "\n",
       "#sk-container-id-4 div.sk-estimator.fitted:hover {\n",
       "  /* fitted */\n",
       "  background-color: var(--sklearn-color-fitted-level-2);\n",
       "}\n",
       "\n",
       "/* Specification for estimator info (e.g. \"i\" and \"?\") */\n",
       "\n",
       "/* Common style for \"i\" and \"?\" */\n",
       "\n",
       ".sk-estimator-doc-link,\n",
       "a:link.sk-estimator-doc-link,\n",
       "a:visited.sk-estimator-doc-link {\n",
       "  float: right;\n",
       "  font-size: smaller;\n",
       "  line-height: 1em;\n",
       "  font-family: monospace;\n",
       "  background-color: var(--sklearn-color-background);\n",
       "  border-radius: 1em;\n",
       "  height: 1em;\n",
       "  width: 1em;\n",
       "  text-decoration: none !important;\n",
       "  margin-left: 1ex;\n",
       "  /* unfitted */\n",
       "  border: var(--sklearn-color-unfitted-level-1) 1pt solid;\n",
       "  color: var(--sklearn-color-unfitted-level-1);\n",
       "}\n",
       "\n",
       ".sk-estimator-doc-link.fitted,\n",
       "a:link.sk-estimator-doc-link.fitted,\n",
       "a:visited.sk-estimator-doc-link.fitted {\n",
       "  /* fitted */\n",
       "  border: var(--sklearn-color-fitted-level-1) 1pt solid;\n",
       "  color: var(--sklearn-color-fitted-level-1);\n",
       "}\n",
       "\n",
       "/* On hover */\n",
       "div.sk-estimator:hover .sk-estimator-doc-link:hover,\n",
       ".sk-estimator-doc-link:hover,\n",
       "div.sk-label-container:hover .sk-estimator-doc-link:hover,\n",
       ".sk-estimator-doc-link:hover {\n",
       "  /* unfitted */\n",
       "  background-color: var(--sklearn-color-unfitted-level-3);\n",
       "  color: var(--sklearn-color-background);\n",
       "  text-decoration: none;\n",
       "}\n",
       "\n",
       "div.sk-estimator.fitted:hover .sk-estimator-doc-link.fitted:hover,\n",
       ".sk-estimator-doc-link.fitted:hover,\n",
       "div.sk-label-container:hover .sk-estimator-doc-link.fitted:hover,\n",
       ".sk-estimator-doc-link.fitted:hover {\n",
       "  /* fitted */\n",
       "  background-color: var(--sklearn-color-fitted-level-3);\n",
       "  color: var(--sklearn-color-background);\n",
       "  text-decoration: none;\n",
       "}\n",
       "\n",
       "/* Span, style for the box shown on hovering the info icon */\n",
       ".sk-estimator-doc-link span {\n",
       "  display: none;\n",
       "  z-index: 9999;\n",
       "  position: relative;\n",
       "  font-weight: normal;\n",
       "  right: .2ex;\n",
       "  padding: .5ex;\n",
       "  margin: .5ex;\n",
       "  width: min-content;\n",
       "  min-width: 20ex;\n",
       "  max-width: 50ex;\n",
       "  color: var(--sklearn-color-text);\n",
       "  box-shadow: 2pt 2pt 4pt #999;\n",
       "  /* unfitted */\n",
       "  background: var(--sklearn-color-unfitted-level-0);\n",
       "  border: .5pt solid var(--sklearn-color-unfitted-level-3);\n",
       "}\n",
       "\n",
       ".sk-estimator-doc-link.fitted span {\n",
       "  /* fitted */\n",
       "  background: var(--sklearn-color-fitted-level-0);\n",
       "  border: var(--sklearn-color-fitted-level-3);\n",
       "}\n",
       "\n",
       ".sk-estimator-doc-link:hover span {\n",
       "  display: block;\n",
       "}\n",
       "\n",
       "/* \"?\"-specific style due to the `<a>` HTML tag */\n",
       "\n",
       "#sk-container-id-4 a.estimator_doc_link {\n",
       "  float: right;\n",
       "  font-size: 1rem;\n",
       "  line-height: 1em;\n",
       "  font-family: monospace;\n",
       "  background-color: var(--sklearn-color-background);\n",
       "  border-radius: 1rem;\n",
       "  height: 1rem;\n",
       "  width: 1rem;\n",
       "  text-decoration: none;\n",
       "  /* unfitted */\n",
       "  color: var(--sklearn-color-unfitted-level-1);\n",
       "  border: var(--sklearn-color-unfitted-level-1) 1pt solid;\n",
       "}\n",
       "\n",
       "#sk-container-id-4 a.estimator_doc_link.fitted {\n",
       "  /* fitted */\n",
       "  border: var(--sklearn-color-fitted-level-1) 1pt solid;\n",
       "  color: var(--sklearn-color-fitted-level-1);\n",
       "}\n",
       "\n",
       "/* On hover */\n",
       "#sk-container-id-4 a.estimator_doc_link:hover {\n",
       "  /* unfitted */\n",
       "  background-color: var(--sklearn-color-unfitted-level-3);\n",
       "  color: var(--sklearn-color-background);\n",
       "  text-decoration: none;\n",
       "}\n",
       "\n",
       "#sk-container-id-4 a.estimator_doc_link.fitted:hover {\n",
       "  /* fitted */\n",
       "  background-color: var(--sklearn-color-fitted-level-3);\n",
       "}\n",
       "</style><div id=\"sk-container-id-4\" class=\"sk-top-container\"><div class=\"sk-text-repr-fallback\"><pre>LinearRegression()</pre><b>In a Jupyter environment, please rerun this cell to show the HTML representation or trust the notebook. <br />On GitHub, the HTML representation is unable to render, please try loading this page with nbviewer.org.</b></div><div class=\"sk-container\" hidden><div class=\"sk-item\"><div class=\"sk-estimator fitted sk-toggleable\"><input class=\"sk-toggleable__control sk-hidden--visually\" id=\"sk-estimator-id-4\" type=\"checkbox\" checked><label for=\"sk-estimator-id-4\" class=\"sk-toggleable__label fitted sk-toggleable__label-arrow fitted\">&nbsp;&nbsp;LinearRegression<a class=\"sk-estimator-doc-link fitted\" rel=\"noreferrer\" target=\"_blank\" href=\"https://scikit-learn.org/1.5/modules/generated/sklearn.linear_model.LinearRegression.html\">?<span>Documentation for LinearRegression</span></a><span class=\"sk-estimator-doc-link fitted\">i<span>Fitted</span></span></label><div class=\"sk-toggleable__content fitted\"><pre>LinearRegression()</pre></div> </div></div></div></div>"
      ],
      "text/plain": [
       "LinearRegression()"
      ]
     },
     "execution_count": 114,
     "metadata": {},
     "output_type": "execute_result"
    }
   ],
>>>>>>> 86dc54f (CP 0 and 1)
   "source": [
    "model.fit(X_train, y_train)"
   ]
  },
  {
   "cell_type": "code",
<<<<<<< HEAD
   "execution_count": null,
=======
   "execution_count": 115,
>>>>>>> 86dc54f (CP 0 and 1)
   "metadata": {},
   "outputs": [],
   "source": [
    "y_pred = model.predict(X_test)"
   ]
  },
  {
   "cell_type": "markdown",
   "metadata": {},
   "source": [
    "## Evaluation"
   ]
  },
  {
   "cell_type": "markdown",
   "metadata": {},
   "source": [
    "Choose some metrics to evaluate the performance of your model, some of them are mentioned in the tutorial."
   ]
  },
  {
   "cell_type": "code",
<<<<<<< HEAD
   "execution_count": null,
   "metadata": {},
   "outputs": [],
   "source": []
=======
   "execution_count": 116,
   "metadata": {},
   "outputs": [
    {
     "name": "stdout",
     "output_type": "stream",
     "text": [
      "0.8232760937845035\n",
      "5.400167999547024\n",
      "6.837378698946807\n"
     ]
    }
   ],
   "source": [
    "print(np.mean(model.predict(X_test)-y_test))\n",
    "print(np.mean(np.abs(model.predict(X_test)-y_test)))\n",
    "print(np.mean((model.predict(X_test)-y_test)**2)**0.5)"
   ]
>>>>>>> 86dc54f (CP 0 and 1)
  },
  {
   "cell_type": "markdown",
   "metadata": {},
   "source": [
    "We have copied over the graphs that visualize the model's performance on the training and testing set. \n",
    "\n",
    "Change `col_name` and modify the call to `plt.ylabel()` to isolate how a single predictor affects the model."
   ]
  },
  {
   "cell_type": "code",
<<<<<<< HEAD
   "execution_count": null,
   "metadata": {},
   "outputs": [],
   "source": [
    "# col_name = 'COLUMN NAME OF ONE PREDICTOR'\n",
    "\n",
    "# f = plt.figure(figsize=(12,6))\n",
    "# plt.scatter(X_train[col_name], y_train, color = \"red\")\n",
    "# plt.scatter(X_train[col_name], model.predict(X_train), color = \"green\")\n",
    "\n",
    "# plt.legend(['True Training','Predicted Training'])\n",
    "# plt.xlabel(col_name)\n",
    "# plt.ylabel('NAME OF THE PREDICTOR')\n",
    "# plt.title(\"Model Behavior On Training Set\")"
=======
   "execution_count": 117,
   "metadata": {},
   "outputs": [
    {
     "data": {
      "text/plain": [
       "Text(0.5, 1.0, 'Model Behavior On Training Set')"
      ]
     },
     "execution_count": 117,
     "metadata": {},
     "output_type": "execute_result"
    },
    {
     "data": {
      "image/png": "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",
      "text/plain": [
       "<Figure size 1200x600 with 1 Axes>"
      ]
     },
     "metadata": {},
     "output_type": "display_data"
    }
   ],
   "source": [
    "col_name = 'TOTAL_EXPENDITURE'\n",
    "\n",
    "f = plt.figure(figsize=(12,6))\n",
    "plt.scatter(X_train[col_name], y_train, color = \"red\")\n",
    "plt.scatter(X_train[col_name], model.predict(X_train), color = \"green\")\n",
    "\n",
    "plt.legend(['True Training','Predicted Training'])\n",
    "plt.xlabel(col_name)\n",
    "plt.ylabel('Total Expenditure')\n",
    "plt.title(\"Model Behavior On Training Set\")"
>>>>>>> 86dc54f (CP 0 and 1)
   ]
  },
  {
   "cell_type": "code",
<<<<<<< HEAD
   "execution_count": null,
   "metadata": {},
   "outputs": [],
   "source": [
    "# col_name = 'COLUMN NAME OF ONE PREDICTOR\"\n",
    "\n",
    "# f = plt.figure(figsize=(12,6))\n",
    "# plt.scatter(X_test[col_name], y_test, color = \"blue\")\n",
    "# plt.scatter(X_test[col_name], model.predict(X_test), color = \"black\")\n",
    "\n",
    "# plt.legend(['True testing','Predicted testing'])\n",
    "# plt.xlabel(col_name)\n",
    "# plt.ylabel('NAME OF THE PREDICTOR')\n",
    "# plt.title(\"Model Behavior on Testing Set\")"
=======
   "execution_count": 118,
   "metadata": {},
   "outputs": [
    {
     "data": {
      "text/plain": [
       "Text(0.5, 1.0, 'Model Behavior on Testing Set')"
      ]
     },
     "execution_count": 118,
     "metadata": {},
     "output_type": "execute_result"
    },
    {
     "data": {
      "image/png": "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",
      "text/plain": [
       "<Figure size 1200x600 with 1 Axes>"
      ]
     },
     "metadata": {},
     "output_type": "display_data"
    }
   ],
   "source": [
    "col_name = 'STATE_REVENUE'\n",
    "\n",
    "f = plt.figure(figsize=(12,6))\n",
    "plt.scatter(X_test[col_name], y_test, color = \"blue\")\n",
    "plt.scatter(X_test[col_name], model.predict(X_test), color = \"black\")\n",
    "\n",
    "plt.legend(['True testing','Predicted testing'])\n",
    "plt.xlabel(col_name)\n",
    "plt.ylabel('State Revenue')\n",
    "plt.title(\"Model Behavior on Testing Set\")"
>>>>>>> 86dc54f (CP 0 and 1)
   ]
  }
 ],
 "metadata": {
  "kernelspec": {
   "display_name": "Python 3.9.0 64-bit",
   "language": "python",
   "name": "python3"
  },
  "language_info": {
   "codemirror_mode": {
    "name": "ipython",
    "version": 3
   },
   "file_extension": ".py",
   "mimetype": "text/x-python",
   "name": "python",
   "nbconvert_exporter": "python",
   "pygments_lexer": "ipython3",
<<<<<<< HEAD
   "version": "3.9.0"
=======
   "version": "3.12.4"
>>>>>>> 86dc54f (CP 0 and 1)
  },
  "vscode": {
   "interpreter": {
    "hash": "6cf8df3ff69f85f626faf55c10df6fe2cb9d1236b4dc73844ee4dc01369c2c99"
   }
  }
 },
 "nbformat": 4,
 "nbformat_minor": 4
}
